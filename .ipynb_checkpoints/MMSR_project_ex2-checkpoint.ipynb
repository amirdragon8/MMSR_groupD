{
 "cells": [
  {
   "cell_type": "markdown",
   "id": "940dd90d",
   "metadata": {},
   "source": [
    "## Import necessary libraries"
   ]
  },
  {
   "cell_type": "code",
   "execution_count": 1,
   "id": "3cdb7c75",
   "metadata": {},
   "outputs": [],
   "source": [
    "import numpy as np\n",
    "import pandas as pd\n",
    "import matplotlib.pyplot as plt\n",
    "from sklearn.metrics.pairwise import cosine_similarity\n",
    "from sklearn.metrics.pairwise import euclidean_distances\n",
    "import pickle\n"
   ]
  },
  {
   "cell_type": "markdown",
   "id": "20447488",
   "metadata": {},
   "source": [
    "## Uploading datasets"
   ]
  },
  {
   "cell_type": "code",
   "execution_count": 2,
   "id": "3ab856ed-466a-4f49-b70c-40f3654d42d8",
   "metadata": {},
   "outputs": [],
   "source": [
    "path_prefix = \".\\\\dataset1\\\\\""
   ]
  },
  {
   "cell_type": "code",
   "execution_count": 3,
   "id": "42074976",
   "metadata": {},
   "outputs": [
    {
     "data": {
      "text/plain": [
       "10095"
      ]
     },
     "execution_count": 3,
     "metadata": {},
     "output_type": "execute_result"
    }
   ],
   "source": [
    "df_names = pd.read_table(path_prefix+'id_information_mmsr.tsv')\n",
    "df_names.head(2)\n",
    "len(df_names)"
   ]
  },
  {
   "cell_type": "code",
   "execution_count": 4,
   "id": "44099d61",
   "metadata": {},
   "outputs": [
    {
     "data": {
      "text/html": [
       "<div>\n",
       "<style scoped>\n",
       "    .dataframe tbody tr th:only-of-type {\n",
       "        vertical-align: middle;\n",
       "    }\n",
       "\n",
       "    .dataframe tbody tr th {\n",
       "        vertical-align: top;\n",
       "    }\n",
       "\n",
       "    .dataframe thead th {\n",
       "        text-align: right;\n",
       "    }\n",
       "</style>\n",
       "<table border=\"1\" class=\"dataframe\">\n",
       "  <thead>\n",
       "    <tr style=\"text-align: right;\">\n",
       "      <th></th>\n",
       "      <th>id</th>\n",
       "      <th>0</th>\n",
       "      <th>1</th>\n",
       "      <th>2</th>\n",
       "      <th>3</th>\n",
       "      <th>4</th>\n",
       "      <th>5</th>\n",
       "      <th>6</th>\n",
       "      <th>7</th>\n",
       "      <th>8</th>\n",
       "      <th>...</th>\n",
       "      <th>758</th>\n",
       "      <th>759</th>\n",
       "      <th>760</th>\n",
       "      <th>761</th>\n",
       "      <th>762</th>\n",
       "      <th>763</th>\n",
       "      <th>764</th>\n",
       "      <th>765</th>\n",
       "      <th>766</th>\n",
       "      <th>767</th>\n",
       "    </tr>\n",
       "  </thead>\n",
       "  <tbody>\n",
       "    <tr>\n",
       "      <th>0</th>\n",
       "      <td>h48f46ZsT9h0Z5Dm</td>\n",
       "      <td>-0.015378</td>\n",
       "      <td>0.041258</td>\n",
       "      <td>-0.004096</td>\n",
       "      <td>-0.061025</td>\n",
       "      <td>-0.012853</td>\n",
       "      <td>0.028773</td>\n",
       "      <td>-0.045051</td>\n",
       "      <td>-0.016451</td>\n",
       "      <td>-0.007118</td>\n",
       "      <td>...</td>\n",
       "      <td>-0.042241</td>\n",
       "      <td>-0.014954</td>\n",
       "      <td>0.047022</td>\n",
       "      <td>-0.015661</td>\n",
       "      <td>-0.007859</td>\n",
       "      <td>0.016969</td>\n",
       "      <td>-0.021641</td>\n",
       "      <td>-0.003476</td>\n",
       "      <td>-0.012301</td>\n",
       "      <td>-0.022135</td>\n",
       "    </tr>\n",
       "    <tr>\n",
       "      <th>1</th>\n",
       "      <td>PV5EXN6AIVBqvsLO</td>\n",
       "      <td>0.040497</td>\n",
       "      <td>0.061796</td>\n",
       "      <td>-0.017192</td>\n",
       "      <td>-0.012942</td>\n",
       "      <td>-0.040331</td>\n",
       "      <td>0.019082</td>\n",
       "      <td>0.001662</td>\n",
       "      <td>-0.036522</td>\n",
       "      <td>-0.022991</td>\n",
       "      <td>...</td>\n",
       "      <td>-0.025968</td>\n",
       "      <td>-0.023056</td>\n",
       "      <td>-0.019058</td>\n",
       "      <td>0.010935</td>\n",
       "      <td>-0.010183</td>\n",
       "      <td>-0.011044</td>\n",
       "      <td>-0.036080</td>\n",
       "      <td>-0.002666</td>\n",
       "      <td>-0.005304</td>\n",
       "      <td>-0.016923</td>\n",
       "    </tr>\n",
       "  </tbody>\n",
       "</table>\n",
       "<p>2 rows × 769 columns</p>\n",
       "</div>"
      ],
      "text/plain": [
       "                 id         0         1         2         3         4  \\\n",
       "0  h48f46ZsT9h0Z5Dm -0.015378  0.041258 -0.004096 -0.061025 -0.012853   \n",
       "1  PV5EXN6AIVBqvsLO  0.040497  0.061796 -0.017192 -0.012942 -0.040331   \n",
       "\n",
       "          5         6         7         8  ...       758       759       760  \\\n",
       "0  0.028773 -0.045051 -0.016451 -0.007118  ... -0.042241 -0.014954  0.047022   \n",
       "1  0.019082  0.001662 -0.036522 -0.022991  ... -0.025968 -0.023056 -0.019058   \n",
       "\n",
       "        761       762       763       764       765       766       767  \n",
       "0 -0.015661 -0.007859  0.016969 -0.021641 -0.003476 -0.012301 -0.022135  \n",
       "1  0.010935 -0.010183 -0.011044 -0.036080 -0.002666 -0.005304 -0.016923  \n",
       "\n",
       "[2 rows x 769 columns]"
      ]
     },
     "execution_count": 4,
     "metadata": {},
     "output_type": "execute_result"
    }
   ],
   "source": [
    "df_bert = pd.read_table(path_prefix+'id_lyrics_bert_mmsr.tsv')\n",
    "df_bert.head(2)"
   ]
  },
  {
   "cell_type": "code",
   "execution_count": 5,
   "id": "56982c68",
   "metadata": {},
   "outputs": [
    {
     "data": {
      "text/html": [
       "<div>\n",
       "<style scoped>\n",
       "    .dataframe tbody tr th:only-of-type {\n",
       "        vertical-align: middle;\n",
       "    }\n",
       "\n",
       "    .dataframe tbody tr th {\n",
       "        vertical-align: top;\n",
       "    }\n",
       "\n",
       "    .dataframe thead th {\n",
       "        text-align: right;\n",
       "    }\n",
       "</style>\n",
       "<table border=\"1\" class=\"dataframe\">\n",
       "  <thead>\n",
       "    <tr style=\"text-align: right;\">\n",
       "      <th></th>\n",
       "      <th>id</th>\n",
       "      <th>0</th>\n",
       "      <th>1</th>\n",
       "      <th>2</th>\n",
       "      <th>3</th>\n",
       "      <th>4</th>\n",
       "      <th>5</th>\n",
       "      <th>6</th>\n",
       "      <th>7</th>\n",
       "      <th>8</th>\n",
       "      <th>...</th>\n",
       "      <th>290</th>\n",
       "      <th>291</th>\n",
       "      <th>292</th>\n",
       "      <th>293</th>\n",
       "      <th>294</th>\n",
       "      <th>295</th>\n",
       "      <th>296</th>\n",
       "      <th>297</th>\n",
       "      <th>298</th>\n",
       "      <th>299</th>\n",
       "    </tr>\n",
       "  </thead>\n",
       "  <tbody>\n",
       "    <tr>\n",
       "      <th>0</th>\n",
       "      <td>vo7FwIGCk6YHfkIA</td>\n",
       "      <td>0.033718</td>\n",
       "      <td>0.014378</td>\n",
       "      <td>0.026128</td>\n",
       "      <td>0.042627</td>\n",
       "      <td>-0.048268</td>\n",
       "      <td>0.015804</td>\n",
       "      <td>0.032547</td>\n",
       "      <td>-0.020543</td>\n",
       "      <td>0.025851</td>\n",
       "      <td>...</td>\n",
       "      <td>-0.018858</td>\n",
       "      <td>0.016099</td>\n",
       "      <td>-0.040894</td>\n",
       "      <td>-0.005447</td>\n",
       "      <td>-0.016220</td>\n",
       "      <td>-0.014547</td>\n",
       "      <td>0.017679</td>\n",
       "      <td>-0.040378</td>\n",
       "      <td>-0.015388</td>\n",
       "      <td>-0.003768</td>\n",
       "    </tr>\n",
       "    <tr>\n",
       "      <th>1</th>\n",
       "      <td>KbiCjEDMzzHYn6zF</td>\n",
       "      <td>0.032313</td>\n",
       "      <td>0.013010</td>\n",
       "      <td>0.024825</td>\n",
       "      <td>0.028559</td>\n",
       "      <td>-0.024753</td>\n",
       "      <td>-0.007209</td>\n",
       "      <td>0.018488</td>\n",
       "      <td>-0.037101</td>\n",
       "      <td>0.031233</td>\n",
       "      <td>...</td>\n",
       "      <td>-0.044380</td>\n",
       "      <td>0.023839</td>\n",
       "      <td>-0.051918</td>\n",
       "      <td>0.023653</td>\n",
       "      <td>-0.000048</td>\n",
       "      <td>0.011242</td>\n",
       "      <td>0.023039</td>\n",
       "      <td>-0.017589</td>\n",
       "      <td>0.015194</td>\n",
       "      <td>-0.017180</td>\n",
       "    </tr>\n",
       "  </tbody>\n",
       "</table>\n",
       "<p>2 rows × 301 columns</p>\n",
       "</div>"
      ],
      "text/plain": [
       "                 id         0         1         2         3         4  \\\n",
       "0  vo7FwIGCk6YHfkIA  0.033718  0.014378  0.026128  0.042627 -0.048268   \n",
       "1  KbiCjEDMzzHYn6zF  0.032313  0.013010  0.024825  0.028559 -0.024753   \n",
       "\n",
       "          5         6         7         8  ...       290       291       292  \\\n",
       "0  0.015804  0.032547 -0.020543  0.025851  ... -0.018858  0.016099 -0.040894   \n",
       "1 -0.007209  0.018488 -0.037101  0.031233  ... -0.044380  0.023839 -0.051918   \n",
       "\n",
       "        293       294       295       296       297       298       299  \n",
       "0 -0.005447 -0.016220 -0.014547  0.017679 -0.040378 -0.015388 -0.003768  \n",
       "1  0.023653 -0.000048  0.011242  0.023039 -0.017589  0.015194 -0.017180  \n",
       "\n",
       "[2 rows x 301 columns]"
      ]
     },
     "execution_count": 5,
     "metadata": {},
     "output_type": "execute_result"
    }
   ],
   "source": [
    "df_word2vec = pd.read_table(path_prefix+'id_lyrics_word2vec_mmsr.tsv')\n",
    "df_word2vec.head(2)"
   ]
  },
  {
   "cell_type": "code",
   "execution_count": 6,
   "id": "83cb1a00",
   "metadata": {},
   "outputs": [
    {
     "data": {
      "text/html": [
       "<div>\n",
       "<style scoped>\n",
       "    .dataframe tbody tr th:only-of-type {\n",
       "        vertical-align: middle;\n",
       "    }\n",
       "\n",
       "    .dataframe tbody tr th {\n",
       "        vertical-align: top;\n",
       "    }\n",
       "\n",
       "    .dataframe thead th {\n",
       "        text-align: right;\n",
       "    }\n",
       "</style>\n",
       "<table border=\"1\" class=\"dataframe\">\n",
       "  <thead>\n",
       "    <tr style=\"text-align: right;\">\n",
       "      <th></th>\n",
       "      <th>id</th>\n",
       "      <th>abl</th>\n",
       "      <th>accept</th>\n",
       "      <th>across</th>\n",
       "      <th>act</th>\n",
       "      <th>addict</th>\n",
       "      <th>afraid</th>\n",
       "      <th>age</th>\n",
       "      <th>ago</th>\n",
       "      <th>ah</th>\n",
       "      <th>...</th>\n",
       "      <th>yea</th>\n",
       "      <th>yeah</th>\n",
       "      <th>year</th>\n",
       "      <th>yellow</th>\n",
       "      <th>yes</th>\n",
       "      <th>yesterday</th>\n",
       "      <th>yet</th>\n",
       "      <th>yo</th>\n",
       "      <th>young</th>\n",
       "      <th>youth</th>\n",
       "    </tr>\n",
       "  </thead>\n",
       "  <tbody>\n",
       "    <tr>\n",
       "      <th>0</th>\n",
       "      <td>h48f46ZsT9h0Z5Dm</td>\n",
       "      <td>0.0</td>\n",
       "      <td>0.0</td>\n",
       "      <td>0.0</td>\n",
       "      <td>0.0</td>\n",
       "      <td>0.0</td>\n",
       "      <td>0.000000</td>\n",
       "      <td>0.0</td>\n",
       "      <td>0.0</td>\n",
       "      <td>0.0</td>\n",
       "      <td>...</td>\n",
       "      <td>0.0</td>\n",
       "      <td>0.0</td>\n",
       "      <td>0.0</td>\n",
       "      <td>0.0</td>\n",
       "      <td>0.0</td>\n",
       "      <td>0.149783</td>\n",
       "      <td>0.0</td>\n",
       "      <td>0.0</td>\n",
       "      <td>0.0</td>\n",
       "      <td>0.0</td>\n",
       "    </tr>\n",
       "    <tr>\n",
       "      <th>1</th>\n",
       "      <td>PV5EXN6AIVBqvsLO</td>\n",
       "      <td>0.0</td>\n",
       "      <td>0.0</td>\n",
       "      <td>0.0</td>\n",
       "      <td>0.0</td>\n",
       "      <td>0.0</td>\n",
       "      <td>0.327025</td>\n",
       "      <td>0.0</td>\n",
       "      <td>0.0</td>\n",
       "      <td>0.0</td>\n",
       "      <td>...</td>\n",
       "      <td>0.0</td>\n",
       "      <td>0.0</td>\n",
       "      <td>0.0</td>\n",
       "      <td>0.0</td>\n",
       "      <td>0.0</td>\n",
       "      <td>0.000000</td>\n",
       "      <td>0.0</td>\n",
       "      <td>0.0</td>\n",
       "      <td>0.0</td>\n",
       "      <td>0.0</td>\n",
       "    </tr>\n",
       "  </tbody>\n",
       "</table>\n",
       "<p>2 rows × 1001 columns</p>\n",
       "</div>"
      ],
      "text/plain": [
       "                 id  abl  accept  across  act  addict    afraid  age  ago  \\\n",
       "0  h48f46ZsT9h0Z5Dm  0.0     0.0     0.0  0.0     0.0  0.000000  0.0  0.0   \n",
       "1  PV5EXN6AIVBqvsLO  0.0     0.0     0.0  0.0     0.0  0.327025  0.0  0.0   \n",
       "\n",
       "    ah  ...  yea  yeah  year  yellow  yes  yesterday  yet   yo  young  youth  \n",
       "0  0.0  ...  0.0   0.0   0.0     0.0  0.0   0.149783  0.0  0.0    0.0    0.0  \n",
       "1  0.0  ...  0.0   0.0   0.0     0.0  0.0   0.000000  0.0  0.0    0.0    0.0  \n",
       "\n",
       "[2 rows x 1001 columns]"
      ]
     },
     "execution_count": 6,
     "metadata": {},
     "output_type": "execute_result"
    }
   ],
   "source": [
    "df_tfidf = pd.read_table(path_prefix+'id_lyrics_tf-idf_mmsr.tsv')\n",
    "df_tfidf.head(2)"
   ]
  },
  {
   "cell_type": "markdown",
   "id": "d1c1a217",
   "metadata": {},
   "source": [
    "## 3 chosen songs"
   ]
  },
  {
   "cell_type": "code",
   "execution_count": 7,
   "id": "c749a6b8",
   "metadata": {},
   "outputs": [
    {
     "data": {
      "text/html": [
       "<div>\n",
       "<style scoped>\n",
       "    .dataframe tbody tr th:only-of-type {\n",
       "        vertical-align: middle;\n",
       "    }\n",
       "\n",
       "    .dataframe tbody tr th {\n",
       "        vertical-align: top;\n",
       "    }\n",
       "\n",
       "    .dataframe thead th {\n",
       "        text-align: right;\n",
       "    }\n",
       "</style>\n",
       "<table border=\"1\" class=\"dataframe\">\n",
       "  <thead>\n",
       "    <tr style=\"text-align: right;\">\n",
       "      <th></th>\n",
       "      <th>id</th>\n",
       "      <th>artist</th>\n",
       "      <th>song</th>\n",
       "      <th>album_name</th>\n",
       "    </tr>\n",
       "  </thead>\n",
       "  <tbody>\n",
       "    <tr>\n",
       "      <th>10051</th>\n",
       "      <td>ziT77Si01mOb5oZg</td>\n",
       "      <td>Frank Sinatra</td>\n",
       "      <td>Jingle Bells</td>\n",
       "      <td>Ultimate Christmas</td>\n",
       "    </tr>\n",
       "  </tbody>\n",
       "</table>\n",
       "</div>"
      ],
      "text/plain": [
       "                     id         artist          song          album_name\n",
       "10051  ziT77Si01mOb5oZg  Frank Sinatra  Jingle Bells  Ultimate Christmas"
      ]
     },
     "execution_count": 7,
     "metadata": {},
     "output_type": "execute_result"
    }
   ],
   "source": [
    "song1 = df_names[df_names['id'] == 'ziT77Si01mOb5oZg']; song1"
   ]
  },
  {
   "cell_type": "code",
   "execution_count": 8,
   "id": "a9fa9181",
   "metadata": {},
   "outputs": [
    {
     "data": {
      "text/html": [
       "<div>\n",
       "<style scoped>\n",
       "    .dataframe tbody tr th:only-of-type {\n",
       "        vertical-align: middle;\n",
       "    }\n",
       "\n",
       "    .dataframe tbody tr th {\n",
       "        vertical-align: top;\n",
       "    }\n",
       "\n",
       "    .dataframe thead th {\n",
       "        text-align: right;\n",
       "    }\n",
       "</style>\n",
       "<table border=\"1\" class=\"dataframe\">\n",
       "  <thead>\n",
       "    <tr style=\"text-align: right;\">\n",
       "      <th></th>\n",
       "      <th>id</th>\n",
       "      <th>artist</th>\n",
       "      <th>song</th>\n",
       "      <th>album_name</th>\n",
       "    </tr>\n",
       "  </thead>\n",
       "  <tbody>\n",
       "    <tr>\n",
       "      <th>6209</th>\n",
       "      <td>cVZd1wCtRYIqRnaV</td>\n",
       "      <td>Stevie Wonder</td>\n",
       "      <td>Happy Birthday</td>\n",
       "      <td>Hotter Than July</td>\n",
       "    </tr>\n",
       "  </tbody>\n",
       "</table>\n",
       "</div>"
      ],
      "text/plain": [
       "                    id         artist            song        album_name\n",
       "6209  cVZd1wCtRYIqRnaV  Stevie Wonder  Happy Birthday  Hotter Than July"
      ]
     },
     "execution_count": 8,
     "metadata": {},
     "output_type": "execute_result"
    }
   ],
   "source": [
    "song2 = df_names[df_names['id'] == 'cVZd1wCtRYIqRnaV']; song2"
   ]
  },
  {
   "cell_type": "code",
   "execution_count": 9,
   "id": "d98262bc",
   "metadata": {},
   "outputs": [
    {
     "data": {
      "text/html": [
       "<div>\n",
       "<style scoped>\n",
       "    .dataframe tbody tr th:only-of-type {\n",
       "        vertical-align: middle;\n",
       "    }\n",
       "\n",
       "    .dataframe tbody tr th {\n",
       "        vertical-align: top;\n",
       "    }\n",
       "\n",
       "    .dataframe thead th {\n",
       "        text-align: right;\n",
       "    }\n",
       "</style>\n",
       "<table border=\"1\" class=\"dataframe\">\n",
       "  <thead>\n",
       "    <tr style=\"text-align: right;\">\n",
       "      <th></th>\n",
       "      <th>id</th>\n",
       "      <th>artist</th>\n",
       "      <th>song</th>\n",
       "      <th>album_name</th>\n",
       "    </tr>\n",
       "  </thead>\n",
       "  <tbody>\n",
       "    <tr>\n",
       "      <th>6970</th>\n",
       "      <td>h0Jaex0Pdbn3aVXv</td>\n",
       "      <td>Green Day</td>\n",
       "      <td>Wake Me Up When September Ends</td>\n",
       "      <td>American Idiot</td>\n",
       "    </tr>\n",
       "  </tbody>\n",
       "</table>\n",
       "</div>"
      ],
      "text/plain": [
       "                    id     artist                            song  \\\n",
       "6970  h0Jaex0Pdbn3aVXv  Green Day  Wake Me Up When September Ends   \n",
       "\n",
       "          album_name  \n",
       "6970  American Idiot  "
      ]
     },
     "execution_count": 9,
     "metadata": {},
     "output_type": "execute_result"
    }
   ],
   "source": [
    "song3 = df_names[df_names['id'] == 'h0Jaex0Pdbn3aVXv']; song3"
   ]
  },
  {
   "cell_type": "markdown",
   "id": "1f1d4da3",
   "metadata": {},
   "source": [
    "## Function returns artist and song name with given id"
   ]
  },
  {
   "cell_type": "code",
   "execution_count": 10,
   "id": "a113f9b9",
   "metadata": {},
   "outputs": [],
   "source": [
    "def song_info(id_):\n",
    "    return df_names[df_names['id'] == id_]"
   ]
  },
  {
   "cell_type": "markdown",
   "id": "887847cd-4548-4ea3-beff-19597613439e",
   "metadata": {},
   "source": [
    "# Exercise 2"
   ]
  },
  {
   "cell_type": "code",
   "execution_count": 11,
   "id": "68e5e861-cbf0-466a-a34e-7d85960a6542",
   "metadata": {},
   "outputs": [],
   "source": [
    "path_prefix = \".\\\\dataset2\\\\\""
   ]
  },
  {
   "cell_type": "code",
   "execution_count": 12,
   "id": "025f0483-02b3-4753-ab29-77df50b7b117",
   "metadata": {},
   "outputs": [
    {
     "data": {
      "text/html": [
       "<div>\n",
       "<style scoped>\n",
       "    .dataframe tbody tr th:only-of-type {\n",
       "        vertical-align: middle;\n",
       "    }\n",
       "\n",
       "    .dataframe tbody tr th {\n",
       "        vertical-align: top;\n",
       "    }\n",
       "\n",
       "    .dataframe thead th {\n",
       "        text-align: right;\n",
       "    }\n",
       "</style>\n",
       "<table border=\"1\" class=\"dataframe\">\n",
       "  <thead>\n",
       "    <tr style=\"text-align: right;\">\n",
       "      <th></th>\n",
       "      <th>id</th>\n",
       "      <th>mfccB000</th>\n",
       "      <th>mfccB001</th>\n",
       "      <th>mfccB002</th>\n",
       "      <th>mfccB003</th>\n",
       "      <th>mfccB004</th>\n",
       "      <th>mfccB005</th>\n",
       "      <th>mfccB006</th>\n",
       "      <th>mfccB007</th>\n",
       "      <th>mfccB008</th>\n",
       "      <th>...</th>\n",
       "      <th>mfccB490</th>\n",
       "      <th>mfccB491</th>\n",
       "      <th>mfccB492</th>\n",
       "      <th>mfccB493</th>\n",
       "      <th>mfccB494</th>\n",
       "      <th>mfccB495</th>\n",
       "      <th>mfccB496</th>\n",
       "      <th>mfccB497</th>\n",
       "      <th>mfccB498</th>\n",
       "      <th>mfccB499</th>\n",
       "    </tr>\n",
       "  </thead>\n",
       "  <tbody>\n",
       "    <tr>\n",
       "      <th>0</th>\n",
       "      <td>GDGURAgKxNPEuXzM</td>\n",
       "      <td>0.00000</td>\n",
       "      <td>0.0</td>\n",
       "      <td>2.096910</td>\n",
       "      <td>0.0</td>\n",
       "      <td>0.00000</td>\n",
       "      <td>0.0</td>\n",
       "      <td>1.982271</td>\n",
       "      <td>2.722634</td>\n",
       "      <td>0.69897</td>\n",
       "      <td>...</td>\n",
       "      <td>1.740363</td>\n",
       "      <td>2.604226</td>\n",
       "      <td>0.0</td>\n",
       "      <td>0.00000</td>\n",
       "      <td>1.30103</td>\n",
       "      <td>0.0</td>\n",
       "      <td>0.00000</td>\n",
       "      <td>0.000000</td>\n",
       "      <td>1.278754</td>\n",
       "      <td>2.235529</td>\n",
       "    </tr>\n",
       "    <tr>\n",
       "      <th>1</th>\n",
       "      <td>gdHmkEd0uy5HzhlM</td>\n",
       "      <td>0.69897</td>\n",
       "      <td>0.0</td>\n",
       "      <td>2.143015</td>\n",
       "      <td>0.0</td>\n",
       "      <td>0.30103</td>\n",
       "      <td>0.0</td>\n",
       "      <td>2.945961</td>\n",
       "      <td>2.139879</td>\n",
       "      <td>0.90309</td>\n",
       "      <td>...</td>\n",
       "      <td>1.653212</td>\n",
       "      <td>1.819544</td>\n",
       "      <td>0.0</td>\n",
       "      <td>0.30103</td>\n",
       "      <td>1.50515</td>\n",
       "      <td>0.0</td>\n",
       "      <td>0.30103</td>\n",
       "      <td>1.176091</td>\n",
       "      <td>2.371068</td>\n",
       "      <td>2.367356</td>\n",
       "    </tr>\n",
       "  </tbody>\n",
       "</table>\n",
       "<p>2 rows × 501 columns</p>\n",
       "</div>"
      ],
      "text/plain": [
       "                 id  mfccB000  mfccB001  mfccB002  mfccB003  mfccB004  \\\n",
       "0  GDGURAgKxNPEuXzM   0.00000       0.0  2.096910       0.0   0.00000   \n",
       "1  gdHmkEd0uy5HzhlM   0.69897       0.0  2.143015       0.0   0.30103   \n",
       "\n",
       "   mfccB005  mfccB006  mfccB007  mfccB008  ...  mfccB490  mfccB491  mfccB492  \\\n",
       "0       0.0  1.982271  2.722634   0.69897  ...  1.740363  2.604226       0.0   \n",
       "1       0.0  2.945961  2.139879   0.90309  ...  1.653212  1.819544       0.0   \n",
       "\n",
       "   mfccB493  mfccB494  mfccB495  mfccB496  mfccB497  mfccB498  mfccB499  \n",
       "0   0.00000   1.30103       0.0   0.00000  0.000000  1.278754  2.235529  \n",
       "1   0.30103   1.50515       0.0   0.30103  1.176091  2.371068  2.367356  \n",
       "\n",
       "[2 rows x 501 columns]"
      ]
     },
     "execution_count": 12,
     "metadata": {},
     "output_type": "execute_result"
    }
   ],
   "source": [
    "df_mfcc = pd.read_table(path_prefix+'id_mfcc_bow_mmsr.tsv')\n",
    "df_mfcc.head(2)"
   ]
  },
  {
   "cell_type": "code",
   "execution_count": 13,
   "id": "b516e33b-0a8c-4a99-af38-188f7df776c5",
   "metadata": {},
   "outputs": [
    {
     "data": {
      "text/html": [
       "<div>\n",
       "<style scoped>\n",
       "    .dataframe tbody tr th:only-of-type {\n",
       "        vertical-align: middle;\n",
       "    }\n",
       "\n",
       "    .dataframe tbody tr th {\n",
       "        vertical-align: top;\n",
       "    }\n",
       "\n",
       "    .dataframe thead th {\n",
       "        text-align: right;\n",
       "    }\n",
       "</style>\n",
       "<table border=\"1\" class=\"dataframe\">\n",
       "  <thead>\n",
       "    <tr style=\"text-align: right;\">\n",
       "      <th></th>\n",
       "      <th>id</th>\n",
       "      <th>BLF_SPEC_CTRS000</th>\n",
       "      <th>BLF_SPEC_CTRS001</th>\n",
       "      <th>BLF_SPEC_CTRS002</th>\n",
       "      <th>BLF_SPEC_CTRS003</th>\n",
       "      <th>BLF_SPEC_CTRS004</th>\n",
       "      <th>BLF_SPEC_CTRS005</th>\n",
       "      <th>BLF_SPEC_CTRS006</th>\n",
       "      <th>BLF_SPEC_CTRS007</th>\n",
       "      <th>BLF_SPEC_CTRS008</th>\n",
       "      <th>...</th>\n",
       "      <th>BLF_SPEC_CTRS790</th>\n",
       "      <th>BLF_SPEC_CTRS791</th>\n",
       "      <th>BLF_SPEC_CTRS792</th>\n",
       "      <th>BLF_SPEC_CTRS793</th>\n",
       "      <th>BLF_SPEC_CTRS794</th>\n",
       "      <th>BLF_SPEC_CTRS795</th>\n",
       "      <th>BLF_SPEC_CTRS796</th>\n",
       "      <th>BLF_SPEC_CTRS797</th>\n",
       "      <th>BLF_SPEC_CTRS798</th>\n",
       "      <th>BLF_SPEC_CTRS799</th>\n",
       "    </tr>\n",
       "  </thead>\n",
       "  <tbody>\n",
       "    <tr>\n",
       "      <th>0</th>\n",
       "      <td>01Yfj2T3YTwJ1Yfy</td>\n",
       "      <td>0.022039</td>\n",
       "      <td>0.024196</td>\n",
       "      <td>0.02515</td>\n",
       "      <td>0.027585</td>\n",
       "      <td>0.027636</td>\n",
       "      <td>0.028242</td>\n",
       "      <td>0.028864</td>\n",
       "      <td>0.028893</td>\n",
       "      <td>0.030540</td>\n",
       "      <td>...</td>\n",
       "      <td>0.016565</td>\n",
       "      <td>0.016715</td>\n",
       "      <td>0.017400</td>\n",
       "      <td>0.017658</td>\n",
       "      <td>0.018747</td>\n",
       "      <td>0.019526</td>\n",
       "      <td>0.020388</td>\n",
       "      <td>0.021293</td>\n",
       "      <td>0.023746</td>\n",
       "      <td>0.024963</td>\n",
       "    </tr>\n",
       "    <tr>\n",
       "      <th>1</th>\n",
       "      <td>01gyRHLquwXDlhkO</td>\n",
       "      <td>0.026550</td>\n",
       "      <td>0.029981</td>\n",
       "      <td>0.03121</td>\n",
       "      <td>0.033620</td>\n",
       "      <td>0.034753</td>\n",
       "      <td>0.035093</td>\n",
       "      <td>0.036650</td>\n",
       "      <td>0.037344</td>\n",
       "      <td>0.038178</td>\n",
       "      <td>...</td>\n",
       "      <td>0.016232</td>\n",
       "      <td>0.016667</td>\n",
       "      <td>0.016972</td>\n",
       "      <td>0.017353</td>\n",
       "      <td>0.018233</td>\n",
       "      <td>0.018639</td>\n",
       "      <td>0.019531</td>\n",
       "      <td>0.020057</td>\n",
       "      <td>0.021328</td>\n",
       "      <td>0.023968</td>\n",
       "    </tr>\n",
       "  </tbody>\n",
       "</table>\n",
       "<p>2 rows × 801 columns</p>\n",
       "</div>"
      ],
      "text/plain": [
       "                 id  BLF_SPEC_CTRS000  BLF_SPEC_CTRS001  BLF_SPEC_CTRS002  \\\n",
       "0  01Yfj2T3YTwJ1Yfy          0.022039          0.024196           0.02515   \n",
       "1  01gyRHLquwXDlhkO          0.026550          0.029981           0.03121   \n",
       "\n",
       "   BLF_SPEC_CTRS003  BLF_SPEC_CTRS004  BLF_SPEC_CTRS005  BLF_SPEC_CTRS006  \\\n",
       "0          0.027585          0.027636          0.028242          0.028864   \n",
       "1          0.033620          0.034753          0.035093          0.036650   \n",
       "\n",
       "   BLF_SPEC_CTRS007  BLF_SPEC_CTRS008  ...  BLF_SPEC_CTRS790  \\\n",
       "0          0.028893          0.030540  ...          0.016565   \n",
       "1          0.037344          0.038178  ...          0.016232   \n",
       "\n",
       "   BLF_SPEC_CTRS791  BLF_SPEC_CTRS792  BLF_SPEC_CTRS793  BLF_SPEC_CTRS794  \\\n",
       "0          0.016715          0.017400          0.017658          0.018747   \n",
       "1          0.016667          0.016972          0.017353          0.018233   \n",
       "\n",
       "   BLF_SPEC_CTRS795  BLF_SPEC_CTRS796  BLF_SPEC_CTRS797  BLF_SPEC_CTRS798  \\\n",
       "0          0.019526          0.020388          0.021293          0.023746   \n",
       "1          0.018639          0.019531          0.020057          0.021328   \n",
       "\n",
       "   BLF_SPEC_CTRS799  \n",
       "0          0.024963  \n",
       "1          0.023968  \n",
       "\n",
       "[2 rows x 801 columns]"
      ]
     },
     "execution_count": 13,
     "metadata": {},
     "output_type": "execute_result"
    }
   ],
   "source": [
    "df_blf_spectralcontrast = pd.read_table(path_prefix+'id_blf_spectralcontrast_mmsr.tsv')\n",
    "df_blf_spectralcontrast.head(2)"
   ]
  },
  {
   "cell_type": "markdown",
   "id": "5ed90c21-ffbb-49b0-9215-8266fcbc3c34",
   "metadata": {},
   "source": [
    "## Task 2.1 Retrieval systems \n",
    "* Audio-based(\\<similarity>, MFCC with BoW)\n",
    "Similar to Text-based(\\<similarity\\>, \\<feature\\>), however choose as feature one of the representations of the MFCCs (BoW or statistical descriptors).\\\n",
    "  **𝑠𝑖𝑚(𝑞𝑢𝑒𝑟𝑦, 𝑡𝑎𝑟𝑔𝑒𝑡_𝑡𝑟𝑎𝑐𝑘) = <𝑠𝑖𝑚𝑖𝑙𝑎𝑟𝑖𝑡𝑦> (<𝑓𝑒𝑎𝑡𝑢𝑟𝑒>(𝑞𝑢𝑒𝑟𝑦), <𝑓𝑒𝑎𝑡𝑢𝑟𝑒>(𝑡𝑎𝑟𝑔𝑒𝑡_𝑡𝑟𝑎𝑐𝑘))**\n",
    "\n",
    "Furthermore, the implemented retrieval systems are similar to Audio-based(\\<similarity\\>, \\<feature\\>): \n",
    "* Audio-based(\\<similarity\\>, BLF spectral contrast)\n",
    "* Audio-based(\\<similarity\\>, i-vectors 256)\n",
    "* Audio-based(\\<similarity\\>, musicnn (DNN-based) )"
   ]
  },
  {
   "cell_type": "code",
   "execution_count": 14,
   "id": "554808e6-7274-4174-ae47-c97c6356d540",
   "metadata": {},
   "outputs": [],
   "source": [
    "song1_id = song1['id'].values[0]\n",
    "song2_id = song2['id'].values[0]\n",
    "song3_id = song3['id'].values[0]"
   ]
  },
  {
   "cell_type": "code",
   "execution_count": 15,
   "id": "e2e30ef7-cf27-4996-8c4a-2ac21871baf9",
   "metadata": {},
   "outputs": [
    {
     "data": {
      "text/plain": [
       "array([0, 1, 2, 3, 4, 5, 6, 7, 8, 9])"
      ]
     },
     "execution_count": 15,
     "metadata": {},
     "output_type": "execute_result"
    }
   ],
   "source": [
    "np.arange(10)"
   ]
  },
  {
   "cell_type": "code",
   "execution_count": 65,
   "id": "98adbb15-3b74-45e9-9917-5417365e9e4b",
   "metadata": {},
   "outputs": [],
   "source": [
    "## read all dataframes in when needed\n",
    "path_prefix = \".\\\\dataset1\\\\\"\n",
    "feature = 'lyrics_tf-idf'\n",
    "df_lyrics_tf_idf = pd.read_table(path_prefix+f\"id_{feature}_mmsr.tsv\")\n",
    "feature = 'lyrics_bert'\n",
    "df_lyrics_bert = pd.read_table(path_prefix+f\"id_{feature}_mmsr.tsv\")\n",
    "feature = 'lyrics_word2vec'\n",
    "df_lyrics_word2vec = pd.read_table(path_prefix+f\"id_{feature}_mmsr.tsv\")\n",
    "path_prefix = \".\\\\dataset2\\\\\"\n",
    "feature = 'mfcc_bow'\n",
    "df_mfcc_bow = pd.read_table(path_prefix+f\"id_{feature}_mmsr.tsv\")\n",
    "feature = 'blf_spectralcontrast'\n",
    "df_blf_spectralcontrast = pd.read_table(path_prefix+f\"id_{feature}_mmsr.tsv\")\n",
    "feature = 'ivec256'\n",
    "df_ivec256 = pd.read_table(path_prefix+f\"id_{feature}_mmsr.tsv\")\n",
    "feature = 'musicnn'\n",
    "df_musicnn = pd.read_table(path_prefix+f\"id_{feature}_mmsr.tsv\")\n",
    "\n",
    "# TODO: Normalize features to improve performance"
   ]
  },
  {
   "cell_type": "code",
   "execution_count": 71,
   "id": "a2992d7c-efff-42f6-ace5-d39f4b99cba1",
   "metadata": {},
   "outputs": [],
   "source": [
    "\n",
    "def read_df(feature:str):\n",
    "    if feature.startswith('lyrics'):\n",
    "        if feature == 'lyrics_tf-idf':\n",
    "            return df_lyrics_tf_idf\n",
    "        elif feature == 'lyrics_bert':\n",
    "            return df_lyrics_bert            \n",
    "        elif feature == 'lyrics_word2vec':\n",
    "            return df_lyrics_word2vec\n",
    "        else:\n",
    "            raise('feature not found')\n",
    "    else:\n",
    "        if feature == 'mfcc_bow':\n",
    "            return df_mfcc_bow\n",
    "        elif feature == 'blf_spectralcontrast':\n",
    "            return df_blf_spectralcontrast            \n",
    "        elif feature == 'ivec256':\n",
    "            return df_ivec256\n",
    "        elif feature == 'musicnn':\n",
    "            return df_musicnn\n",
    " \n",
    "        else:\n",
    "            raise('feature not found')\n",
    "    return\n"
   ]
  },
  {
   "cell_type": "code",
   "execution_count": 94,
   "id": "7dc9b495-56e9-4035-adea-c02c2a5d6602",
   "metadata": {},
   "outputs": [],
   "source": [
    "\n",
    "def recommend_songs(song_id:str, k:int, feature:str, similarity:str = 'cosine_similarity'): # recommender_system = None\n",
    "    \n",
    "    # random_baseline\n",
    "    if feature == '-' or similarity == '-': \n",
    "        return df_names.loc[(df_names['id'] != song_id)].sample(n=k)    \n",
    "\n",
    "    df = None\n",
    "    tsv_features = ['mfcc_bow', 'blf_spectralcontrast', 'ivec256', 'musicnn', 'lyrics_tf-idf', 'lyrics_bert','lyrics_word2vec']\n",
    "    algo_similarity = ['cosine_similarity','euclidean_distances']\n",
    "    \n",
    "    if feature not in tsv_features:\n",
    "        raise(f'feature {feature} is not known to us. Please specify a one of these features: {tsv_features}') \n",
    "        \n",
    "    df = read_df(feature)\n",
    "\n",
    "    if similarity not in algo_similarity:\n",
    "        raise(f'similarity {similarity} is not known to us. Please specify a one of these similarity functions: {algo_similarity}')\n",
    "    \n",
    "    #song_id = song['id'].values[0]\n",
    "    song_vec = df.loc[df['id'] == song_id] # target song vector, make copy because we need to manipulate the feature vector separately\n",
    "    df = df.loc[(df['id'] != song_id)].copy() # this dataset without target song\n",
    "    if similarity == 'cosine_similarity':\n",
    "        df['similarity'] = cosine_similarity(df.iloc[:, 1:], song_vec.iloc[:, 1:]) #similarity between songs from dataset and target song\n",
    "    elif similarity == 'euclidean_distances':\n",
    "        df['similarity'] = euclidean_distances(df.iloc[:, 1:], song_vec.iloc[:, 1:])\n",
    "    \n",
    "\n",
    "    df = df.sort_values(by='similarity', ascending=False).head(k)[['id', 'similarity']] #take k the greatest similarity values, we need id and similarity value\n",
    "    result = pd.merge(df, df_names, how='left', on='id') #merge table to represent names of found songs\n",
    "    return result"
   ]
  },
  {
   "cell_type": "code",
   "execution_count": 52,
   "id": "f629b7c5-258e-4725-a64c-e6645b48041e",
   "metadata": {},
   "outputs": [],
   "source": [
    "# song_id = song1['id'].values[0]\n",
    "# recommend_songs(song = song1_id, k = 10, feature = 'mfcc_bow')"
   ]
  },
  {
   "cell_type": "code",
   "execution_count": 53,
   "id": "d8560936-2c53-45d3-9f89-d2b47ec8cb2f",
   "metadata": {},
   "outputs": [],
   "source": [
    "# song_id = song1['id'].values[0]\n",
    "# recommend_songs(song=song_id, k=10, feature ='blf_spectralcontrast')"
   ]
  },
  {
   "cell_type": "code",
   "execution_count": 54,
   "id": "5aaa0d6f-e203-4c6a-86f4-b0c3c79d8c98",
   "metadata": {},
   "outputs": [],
   "source": [
    "# song_id = song1['id'].values[0]\n",
    "# recommend_songs(song= song_id, k =10, feature = 'ivec256')"
   ]
  },
  {
   "cell_type": "code",
   "execution_count": 42,
   "id": "dff1a7d8-2320-467d-a09f-533ab2496951",
   "metadata": {},
   "outputs": [],
   "source": [
    "# song_id = song1['id'].values[0]\n",
    "# recommend_songs(song= song_id, k =10, feature = 'musicnn')"
   ]
  },
  {
   "cell_type": "markdown",
   "id": "2338e722-cc35-487a-93e3-f453dc2ecba9",
   "metadata": {},
   "source": [
    "## Exercise 2\\Task 2: Evaluation\n",
    "**Accuracy:**\n",
    "* Precision@k & Recall@k: according to the definition given in the lecture. Consider top k retrieved items. For the purposes of precision and recall calculation, a retrieved track is relevant to the query track if the two tracks have at least one genre in common. Allow for evaluation with different lengths of the returned lists (i.e., consider k as a parameter in the evaluation). Compute the average of Precision@k and of Recall@k over all possible query tracks. Plot Precision-Recall curve for each of the 8 evaluated systems by varying k in the interval [1, 100].\n",
    "\n",
    "    * **Precision = TP / (TP + FP)**\n",
    "    * **Recall = TP / (TP + FN)**"
   ]
  },
  {
   "cell_type": "code",
   "execution_count": 73,
   "id": "06b52e44-bbc5-483c-8c8d-32857f3ddbd7",
   "metadata": {},
   "outputs": [
    {
     "data": {
      "text/html": [
       "<div>\n",
       "<style scoped>\n",
       "    .dataframe tbody tr th:only-of-type {\n",
       "        vertical-align: middle;\n",
       "    }\n",
       "\n",
       "    .dataframe tbody tr th {\n",
       "        vertical-align: top;\n",
       "    }\n",
       "\n",
       "    .dataframe thead th {\n",
       "        text-align: right;\n",
       "    }\n",
       "</style>\n",
       "<table border=\"1\" class=\"dataframe\">\n",
       "  <thead>\n",
       "    <tr style=\"text-align: right;\">\n",
       "      <th></th>\n",
       "      <th>id</th>\n",
       "      <th>genre</th>\n",
       "    </tr>\n",
       "  </thead>\n",
       "  <tbody>\n",
       "    <tr>\n",
       "      <th>0</th>\n",
       "      <td>01Yfj2T3YTwJ1Yfy</td>\n",
       "      <td>{rock, christian rock}</td>\n",
       "    </tr>\n",
       "  </tbody>\n",
       "</table>\n",
       "</div>"
      ],
      "text/plain": [
       "                 id                   genre\n",
       "0  01Yfj2T3YTwJ1Yfy  {rock, christian rock}"
      ]
     },
     "execution_count": 73,
     "metadata": {},
     "output_type": "execute_result"
    }
   ],
   "source": [
    "import ast\n",
    "df_genres = pd.read_table(path_prefix+f\"id_genres_mmsr.tsv\")\n",
    "df_genres['genre'] = df_genres['genre'].apply(lambda x : set(ast.literal_eval(x))) # transform string to list and then to set, because later on set comparition will be performed\n",
    "df_genres.head(1)"
   ]
  },
  {
   "cell_type": "code",
   "execution_count": 74,
   "id": "17763d34-fc20-461a-bc04-5a86b544be26",
   "metadata": {},
   "outputs": [
    {
     "data": {
      "text/plain": [
       "{'bells', 'easy listening', 'jazz', 'lounge', 'swing'}"
      ]
     },
     "execution_count": 74,
     "metadata": {},
     "output_type": "execute_result"
    }
   ],
   "source": [
    "def get_genre(song_id):\n",
    "    return df_genres.loc[df_genres['id'] == song_id]['genre'].values[0]\n",
    "genre = get_genre(song1_id)\n",
    "genre\n"
   ]
  },
  {
   "cell_type": "code",
   "execution_count": 75,
   "id": "89ec1609-5168-42ed-a7ce-ef56512b4f01",
   "metadata": {},
   "outputs": [],
   "source": [
    "def enrich_resultset(resultset, target_genres, dataset):\n",
    "    dataset = pd.merge(dataset,resultset['id'] , how='left', on='id', indicator='positive') # left join recommended songs to all songs. Therefore, the top k songs are (true or false) positive \n",
    "    dataset['positive'] = np.where(dataset.positive == 'both', True, False) # top k songs are most similar = recommender system recoginised as positive.\n",
    "    mask = dataset['genre'].apply(lambda x:  True if x & target_genres else False ) # two tracks have at least one genre in common: to calculate if the similarity was right -> true or false postives.\n",
    "    dataset['true'] = mask\n",
    "    return dataset\n",
    "\n",
    "def confusion_matrix(resultset):\n",
    "    tp = ( resultset['positive'] & resultset['true'] ).values.sum()\n",
    "    fp = ( resultset['positive']  & ~( resultset['true'] )).values.sum() \n",
    "    fn = (~( resultset['positive'] ) & ( resultset['true'] )).values.sum()\n",
    "    tn = (~( resultset['positive']) & ~( resultset['true'] )).values.sum() \n",
    "    # print(f\"k: {len() }, tp: {tp} fp: {fp} fn: {fn} tn: {tn}\")\n",
    "    precision = tp/(tp+fp) # TP / (TP + FP)\n",
    "    recall = tp/(tp+fn) # TP / (TP + FN) \n",
    "    return recall.round(3), precision.round(3)\n",
    "\n"
   ]
  },
  {
   "cell_type": "code",
   "execution_count": 76,
   "id": "7b4b14cb-f2f6-4692-b200-e9421c2192ff",
   "metadata": {},
   "outputs": [
    {
     "name": "stdout",
     "output_type": "stream",
     "text": [
      "recall: 0.006 precision: 0.267\n"
     ]
    },
    {
     "data": {
      "text/plain": [
       "'ziT77Si01mOb5oZg'"
      ]
     },
     "execution_count": 76,
     "metadata": {},
     "output_type": "execute_result"
    }
   ],
   "source": [
    "# test step of confusion matrix: \n",
    "song1_id = song1['id'].values[0]\n",
    "resultset = recommend_songs(song1_id, 30, feature = 'musicnn') # _id\n",
    "target_genres = get_genre(song1_id)\n",
    "resultset = enrich_resultset(resultset, target_genres, df_genres) \n",
    "recall, precision = confusion_matrix(resultset) \n",
    "print(f\"recall: {recall} precision: {precision}\")\n",
    "\n",
    "song1_id"
   ]
  },
  {
   "cell_type": "code",
   "execution_count": 77,
   "id": "7061c58f-47dd-419d-9953-158ca6e150d0",
   "metadata": {},
   "outputs": [
    {
     "data": {
      "text/plain": [
       "0                               {rock, christian rock}\n",
       "1               {death metal, rap, grindcore, hip hop}\n",
       "2                                     {rock, pop punk}\n",
       "3                 {techno, trance, progressive trance}\n",
       "4    {europop, world, latin, italian pop, latin pop...\n",
       "5    {new weird america, lo fi, soul, experimental,...\n",
       "6    {neo soul, soul, hip hop, singer songwriter, r...\n",
       "7    {punk, emo, post hardcore, melodic hardcore, p...\n",
       "8    {smooth jazz, vocal jazz, jazz, swing, easy li...\n",
       "9                          {smooth soul, sophisti pop}\n",
       "Name: genre, dtype: object"
      ]
     },
     "execution_count": 77,
     "metadata": {},
     "output_type": "execute_result"
    }
   ],
   "source": [
    "td = df_genres['genre'].head(10).copy()\n",
    "td"
   ]
  },
  {
   "cell_type": "code",
   "execution_count": 131,
   "id": "2136bbe5-49f4-47f2-bce9-a3aec8b05ade",
   "metadata": {},
   "outputs": [],
   "source": [
    "def recall_precision_curve(feature:str, similarity:str = 'cosine_similarity', k:int=30, song_id:str = None):\n",
    "    precision_list = []\n",
    "    recall_list  = []\n",
    "    song_list_of_genres = []\n",
    "    if song_id:\n",
    "        song_list_of_genres = df_genres.loc[df_genres['id'] == song_id].copy()\n",
    "    else:\n",
    "        song_list_of_genres = df_genres[0:10].copy() # test!\n",
    "\n",
    "    \n",
    "    for index, song in song_list_of_genres.iterrows():\n",
    "        #print(song, song['id'])\n",
    "        resultset = recommend_songs(song_id = song['id'], k = k, feature = feature) # task 1 + task 2 recommender systems! # .values[0]\n",
    "        resultset = enrich_resultset(resultset, song['genre'], df_genres) \n",
    "        recall, precision = confusion_matrix(resultset) \n",
    "        precision_list.append(precision)\n",
    "        recall_list.append(recall)\n",
    "    \n",
    "    # numpy.average (if just one song is selected this is not necessary, but done anyways)\n",
    "    avg_recall = np.average(recall_list)\n",
    "    avg_precision = np.average(precision_list)\n",
    "    #avg_recall = recall_list\n",
    "    #avg_precision = precision_list\n",
    "    return  avg_recall, avg_precision"
   ]
  },
  {
   "cell_type": "code",
   "execution_count": 134,
   "id": "b289575d-8602-4e87-a2d5-ea05322c4736",
   "metadata": {},
   "outputs": [
    {
     "name": "stdout",
     "output_type": "stream",
     "text": [
      "0.0088 0.5334000000000001\n"
     ]
    }
   ],
   "source": [
    "# test step of recall_precision_curve: \n",
    "song1_id = song1['id'].values[0]\n",
    "precision_list, recall_list = recall_precision_curve(feature='musicnn', k=30, similarity = 'cosine_similarity')\n",
    "print(precision_list,recall_list )"
   ]
  },
  {
   "cell_type": "code",
   "execution_count": 135,
   "id": "4841df50-07c6-44b7-be8b-af702ce4c66d",
   "metadata": {},
   "outputs": [
    {
     "name": "stdout",
     "output_type": "stream",
     "text": [
      "recommender system: mfcc_bow, feature: mfcc_bow, similarity: cosine_similarity, k: 1\n",
      "recommender system: blf_spectralcontrast, feature: blf_spectralcontrast, similarity: cosine_similarity, k: 1\n",
      "recommender system: ivec256, feature: ivec256, similarity: cosine_similarity, k: 1\n",
      "recommender system: musicnn, feature: musicnn, similarity: cosine_similarity, k: 1\n",
      "recommender system: random, feature: -, similarity: -, k: 1\n",
      "recommender system: cos(tf-idf), feature: lyrics_tf-idf, similarity: cosine_similarity, k: 1\n"
     ]
    },
    {
     "ename": "KeyboardInterrupt",
     "evalue": "",
     "output_type": "error",
     "traceback": [
      "\u001b[1;31m---------------------------------------------------------------------------\u001b[0m",
      "\u001b[1;31mKeyboardInterrupt\u001b[0m                         Traceback (most recent call last)",
      "\u001b[1;32m<ipython-input-135-615ff4007128>\u001b[0m in \u001b[0;36m<module>\u001b[1;34m\u001b[0m\n\u001b[0;32m     28\u001b[0m \u001b[1;33m\u001b[0m\u001b[0m\n\u001b[0;32m     29\u001b[0m \u001b[1;31m# calculate the precision recall over all recommender systems, with k recommended songs\u001b[0m\u001b[1;33m\u001b[0m\u001b[1;33m\u001b[0m\u001b[1;33m\u001b[0m\u001b[0m\n\u001b[1;32m---> 30\u001b[1;33m \u001b[0mrecall_precision_curve_foreach_rs\u001b[0m\u001b[1;33m(\u001b[0m\u001b[0msong\u001b[0m \u001b[1;33m=\u001b[0m \u001b[1;32mNone\u001b[0m\u001b[1;33m,\u001b[0m \u001b[0mk_interval\u001b[0m \u001b[1;33m=\u001b[0m\u001b[1;33m[\u001b[0m\u001b[1;36m1\u001b[0m\u001b[1;33m,\u001b[0m \u001b[1;36m2\u001b[0m\u001b[1;33m]\u001b[0m \u001b[1;33m)\u001b[0m\u001b[1;33m\u001b[0m\u001b[1;33m\u001b[0m\u001b[0m\n\u001b[0m",
      "\u001b[1;32m<ipython-input-135-615ff4007128>\u001b[0m in \u001b[0;36mrecall_precision_curve_foreach_rs\u001b[1;34m(song, k_interval)\u001b[0m\n\u001b[0;32m     23\u001b[0m \u001b[1;33m\u001b[0m\u001b[0m\n\u001b[0;32m     24\u001b[0m             \u001b[0mprint\u001b[0m\u001b[1;33m(\u001b[0m\u001b[1;34mf\"recommender system: {rs}, feature: {feature}, similarity: {similarity}, k: {k}\"\u001b[0m\u001b[1;33m)\u001b[0m\u001b[1;33m\u001b[0m\u001b[1;33m\u001b[0m\u001b[0m\n\u001b[1;32m---> 25\u001b[1;33m             \u001b[0mrecall_list\u001b[0m\u001b[1;33m,\u001b[0m \u001b[0mprecision_list\u001b[0m \u001b[1;33m=\u001b[0m \u001b[0mrecall_precision_curve\u001b[0m\u001b[1;33m(\u001b[0m\u001b[0mfeature\u001b[0m \u001b[1;33m=\u001b[0m \u001b[0mfeature\u001b[0m\u001b[1;33m,\u001b[0m \u001b[0msimilarity\u001b[0m \u001b[1;33m=\u001b[0m \u001b[0msimilarity\u001b[0m\u001b[1;33m,\u001b[0m \u001b[0mk\u001b[0m\u001b[1;33m=\u001b[0m \u001b[0mk\u001b[0m\u001b[1;33m,\u001b[0m \u001b[0msong_id\u001b[0m \u001b[1;33m=\u001b[0m \u001b[1;32mNone\u001b[0m \u001b[1;33m)\u001b[0m\u001b[1;33m\u001b[0m\u001b[1;33m\u001b[0m\u001b[0m\n\u001b[0m\u001b[0;32m     26\u001b[0m             \u001b[1;31m# TODO: save to file, instead of save to dictionary.\u001b[0m\u001b[1;33m\u001b[0m\u001b[1;33m\u001b[0m\u001b[1;33m\u001b[0m\u001b[0m\n\u001b[0;32m     27\u001b[0m             \u001b[0mrecall_precision_curve_result\u001b[0m\u001b[1;33m[\u001b[0m\u001b[0mrs\u001b[0m\u001b[1;33m]\u001b[0m \u001b[1;33m=\u001b[0m \u001b[1;33m{\u001b[0m\u001b[1;34m'precision_list'\u001b[0m\u001b[1;33m:\u001b[0m \u001b[0mprecision_list\u001b[0m\u001b[1;33m,\u001b[0m\u001b[1;34m'recall_list'\u001b[0m\u001b[1;33m:\u001b[0m \u001b[0mrecall_list\u001b[0m \u001b[1;33m}\u001b[0m\u001b[1;33m\u001b[0m\u001b[1;33m\u001b[0m\u001b[0m\n",
      "\u001b[1;32m<ipython-input-131-e570c9858efa>\u001b[0m in \u001b[0;36mrecall_precision_curve\u001b[1;34m(feature, similarity, k, song_id)\u001b[0m\n\u001b[0;32m     11\u001b[0m     \u001b[1;32mfor\u001b[0m \u001b[0mindex\u001b[0m\u001b[1;33m,\u001b[0m \u001b[0msong\u001b[0m \u001b[1;32min\u001b[0m \u001b[0msong_list_of_genres\u001b[0m\u001b[1;33m.\u001b[0m\u001b[0miterrows\u001b[0m\u001b[1;33m(\u001b[0m\u001b[1;33m)\u001b[0m\u001b[1;33m:\u001b[0m\u001b[1;33m\u001b[0m\u001b[1;33m\u001b[0m\u001b[0m\n\u001b[0;32m     12\u001b[0m         \u001b[1;31m#print(song, song['id'])\u001b[0m\u001b[1;33m\u001b[0m\u001b[1;33m\u001b[0m\u001b[1;33m\u001b[0m\u001b[0m\n\u001b[1;32m---> 13\u001b[1;33m         \u001b[0mresultset\u001b[0m \u001b[1;33m=\u001b[0m \u001b[0mrecommend_songs\u001b[0m\u001b[1;33m(\u001b[0m\u001b[0msong_id\u001b[0m \u001b[1;33m=\u001b[0m \u001b[0msong\u001b[0m\u001b[1;33m[\u001b[0m\u001b[1;34m'id'\u001b[0m\u001b[1;33m]\u001b[0m\u001b[1;33m,\u001b[0m \u001b[0mk\u001b[0m \u001b[1;33m=\u001b[0m \u001b[0mk\u001b[0m\u001b[1;33m,\u001b[0m \u001b[0mfeature\u001b[0m \u001b[1;33m=\u001b[0m \u001b[0mfeature\u001b[0m\u001b[1;33m)\u001b[0m \u001b[1;31m# task 1 + task 2 recommender systems! # .values[0]\u001b[0m\u001b[1;33m\u001b[0m\u001b[1;33m\u001b[0m\u001b[0m\n\u001b[0m\u001b[0;32m     14\u001b[0m         \u001b[0mresultset\u001b[0m \u001b[1;33m=\u001b[0m \u001b[0menrich_resultset\u001b[0m\u001b[1;33m(\u001b[0m\u001b[0mresultset\u001b[0m\u001b[1;33m,\u001b[0m \u001b[0msong\u001b[0m\u001b[1;33m[\u001b[0m\u001b[1;34m'genre'\u001b[0m\u001b[1;33m]\u001b[0m\u001b[1;33m,\u001b[0m \u001b[0mdf_genres\u001b[0m\u001b[1;33m)\u001b[0m\u001b[1;33m\u001b[0m\u001b[1;33m\u001b[0m\u001b[0m\n\u001b[0;32m     15\u001b[0m         \u001b[0mrecall\u001b[0m\u001b[1;33m,\u001b[0m \u001b[0mprecision\u001b[0m \u001b[1;33m=\u001b[0m \u001b[0mconfusion_matrix\u001b[0m\u001b[1;33m(\u001b[0m\u001b[0mresultset\u001b[0m\u001b[1;33m)\u001b[0m\u001b[1;33m\u001b[0m\u001b[1;33m\u001b[0m\u001b[0m\n",
      "\u001b[1;32m<ipython-input-94-e428902e91b7>\u001b[0m in \u001b[0;36mrecommend_songs\u001b[1;34m(song_id, k, feature, similarity)\u001b[0m\n\u001b[0;32m     21\u001b[0m     \u001b[0mdf\u001b[0m \u001b[1;33m=\u001b[0m \u001b[0mdf\u001b[0m\u001b[1;33m.\u001b[0m\u001b[0mloc\u001b[0m\u001b[1;33m[\u001b[0m\u001b[1;33m(\u001b[0m\u001b[0mdf\u001b[0m\u001b[1;33m[\u001b[0m\u001b[1;34m'id'\u001b[0m\u001b[1;33m]\u001b[0m \u001b[1;33m!=\u001b[0m \u001b[0msong_id\u001b[0m\u001b[1;33m)\u001b[0m\u001b[1;33m]\u001b[0m\u001b[1;33m.\u001b[0m\u001b[0mcopy\u001b[0m\u001b[1;33m(\u001b[0m\u001b[1;33m)\u001b[0m \u001b[1;31m# this dataset without target song\u001b[0m\u001b[1;33m\u001b[0m\u001b[1;33m\u001b[0m\u001b[0m\n\u001b[0;32m     22\u001b[0m     \u001b[1;32mif\u001b[0m \u001b[0msimilarity\u001b[0m \u001b[1;33m==\u001b[0m \u001b[1;34m'cosine_similarity'\u001b[0m\u001b[1;33m:\u001b[0m\u001b[1;33m\u001b[0m\u001b[1;33m\u001b[0m\u001b[0m\n\u001b[1;32m---> 23\u001b[1;33m         \u001b[0mdf\u001b[0m\u001b[1;33m[\u001b[0m\u001b[1;34m'similarity'\u001b[0m\u001b[1;33m]\u001b[0m \u001b[1;33m=\u001b[0m \u001b[0mcosine_similarity\u001b[0m\u001b[1;33m(\u001b[0m\u001b[0mdf\u001b[0m\u001b[1;33m.\u001b[0m\u001b[0miloc\u001b[0m\u001b[1;33m[\u001b[0m\u001b[1;33m:\u001b[0m\u001b[1;33m,\u001b[0m \u001b[1;36m1\u001b[0m\u001b[1;33m:\u001b[0m\u001b[1;33m]\u001b[0m\u001b[1;33m,\u001b[0m \u001b[0msong_vec\u001b[0m\u001b[1;33m.\u001b[0m\u001b[0miloc\u001b[0m\u001b[1;33m[\u001b[0m\u001b[1;33m:\u001b[0m\u001b[1;33m,\u001b[0m \u001b[1;36m1\u001b[0m\u001b[1;33m:\u001b[0m\u001b[1;33m]\u001b[0m\u001b[1;33m)\u001b[0m \u001b[1;31m#similarity between songs from dataset and target song\u001b[0m\u001b[1;33m\u001b[0m\u001b[1;33m\u001b[0m\u001b[0m\n\u001b[0m\u001b[0;32m     24\u001b[0m     \u001b[1;32melif\u001b[0m \u001b[0msimilarity\u001b[0m \u001b[1;33m==\u001b[0m \u001b[1;34m'euclidean_distances'\u001b[0m\u001b[1;33m:\u001b[0m\u001b[1;33m\u001b[0m\u001b[1;33m\u001b[0m\u001b[0m\n\u001b[0;32m     25\u001b[0m         \u001b[0mdf\u001b[0m\u001b[1;33m[\u001b[0m\u001b[1;34m'similarity'\u001b[0m\u001b[1;33m]\u001b[0m \u001b[1;33m=\u001b[0m \u001b[0meuclidean_distances\u001b[0m\u001b[1;33m(\u001b[0m\u001b[0mdf\u001b[0m\u001b[1;33m.\u001b[0m\u001b[0miloc\u001b[0m\u001b[1;33m[\u001b[0m\u001b[1;33m:\u001b[0m\u001b[1;33m,\u001b[0m \u001b[1;36m1\u001b[0m\u001b[1;33m:\u001b[0m\u001b[1;33m]\u001b[0m\u001b[1;33m,\u001b[0m \u001b[0msong_vec\u001b[0m\u001b[1;33m.\u001b[0m\u001b[0miloc\u001b[0m\u001b[1;33m[\u001b[0m\u001b[1;33m:\u001b[0m\u001b[1;33m,\u001b[0m \u001b[1;36m1\u001b[0m\u001b[1;33m:\u001b[0m\u001b[1;33m]\u001b[0m\u001b[1;33m)\u001b[0m\u001b[1;33m\u001b[0m\u001b[1;33m\u001b[0m\u001b[0m\n",
      "\u001b[1;32m~\\.conda\\envs\\python-tutorial\\lib\\site-packages\\pandas\\core\\indexing.py\u001b[0m in \u001b[0;36m__getitem__\u001b[1;34m(self, key)\u001b[0m\n\u001b[0;32m    923\u001b[0m                 \u001b[1;32mwith\u001b[0m \u001b[0msuppress\u001b[0m\u001b[1;33m(\u001b[0m\u001b[0mKeyError\u001b[0m\u001b[1;33m,\u001b[0m \u001b[0mIndexError\u001b[0m\u001b[1;33m)\u001b[0m\u001b[1;33m:\u001b[0m\u001b[1;33m\u001b[0m\u001b[1;33m\u001b[0m\u001b[0m\n\u001b[0;32m    924\u001b[0m                     \u001b[1;32mreturn\u001b[0m \u001b[0mself\u001b[0m\u001b[1;33m.\u001b[0m\u001b[0mobj\u001b[0m\u001b[1;33m.\u001b[0m\u001b[0m_get_value\u001b[0m\u001b[1;33m(\u001b[0m\u001b[1;33m*\u001b[0m\u001b[0mkey\u001b[0m\u001b[1;33m,\u001b[0m \u001b[0mtakeable\u001b[0m\u001b[1;33m=\u001b[0m\u001b[0mself\u001b[0m\u001b[1;33m.\u001b[0m\u001b[0m_takeable\u001b[0m\u001b[1;33m)\u001b[0m\u001b[1;33m\u001b[0m\u001b[1;33m\u001b[0m\u001b[0m\n\u001b[1;32m--> 925\u001b[1;33m             \u001b[1;32mreturn\u001b[0m \u001b[0mself\u001b[0m\u001b[1;33m.\u001b[0m\u001b[0m_getitem_tuple\u001b[0m\u001b[1;33m(\u001b[0m\u001b[0mkey\u001b[0m\u001b[1;33m)\u001b[0m\u001b[1;33m\u001b[0m\u001b[1;33m\u001b[0m\u001b[0m\n\u001b[0m\u001b[0;32m    926\u001b[0m         \u001b[1;32melse\u001b[0m\u001b[1;33m:\u001b[0m\u001b[1;33m\u001b[0m\u001b[1;33m\u001b[0m\u001b[0m\n\u001b[0;32m    927\u001b[0m             \u001b[1;31m# we by definition only have the 0th axis\u001b[0m\u001b[1;33m\u001b[0m\u001b[1;33m\u001b[0m\u001b[1;33m\u001b[0m\u001b[0m\n",
      "\u001b[1;32m~\\.conda\\envs\\python-tutorial\\lib\\site-packages\\pandas\\core\\indexing.py\u001b[0m in \u001b[0;36m_getitem_tuple\u001b[1;34m(self, tup)\u001b[0m\n\u001b[0;32m   1508\u001b[0m             \u001b[1;32mreturn\u001b[0m \u001b[0mself\u001b[0m\u001b[1;33m.\u001b[0m\u001b[0m_getitem_lowerdim\u001b[0m\u001b[1;33m(\u001b[0m\u001b[0mtup\u001b[0m\u001b[1;33m)\u001b[0m\u001b[1;33m\u001b[0m\u001b[1;33m\u001b[0m\u001b[0m\n\u001b[0;32m   1509\u001b[0m \u001b[1;33m\u001b[0m\u001b[0m\n\u001b[1;32m-> 1510\u001b[1;33m         \u001b[1;32mreturn\u001b[0m \u001b[0mself\u001b[0m\u001b[1;33m.\u001b[0m\u001b[0m_getitem_tuple_same_dim\u001b[0m\u001b[1;33m(\u001b[0m\u001b[0mtup\u001b[0m\u001b[1;33m)\u001b[0m\u001b[1;33m\u001b[0m\u001b[1;33m\u001b[0m\u001b[0m\n\u001b[0m\u001b[0;32m   1511\u001b[0m \u001b[1;33m\u001b[0m\u001b[0m\n\u001b[0;32m   1512\u001b[0m     \u001b[1;32mdef\u001b[0m \u001b[0m_get_list_axis\u001b[0m\u001b[1;33m(\u001b[0m\u001b[0mself\u001b[0m\u001b[1;33m,\u001b[0m \u001b[0mkey\u001b[0m\u001b[1;33m,\u001b[0m \u001b[0maxis\u001b[0m\u001b[1;33m:\u001b[0m \u001b[0mint\u001b[0m\u001b[1;33m)\u001b[0m\u001b[1;33m:\u001b[0m\u001b[1;33m\u001b[0m\u001b[1;33m\u001b[0m\u001b[0m\n",
      "\u001b[1;32m~\\.conda\\envs\\python-tutorial\\lib\\site-packages\\pandas\\core\\indexing.py\u001b[0m in \u001b[0;36m_getitem_tuple_same_dim\u001b[1;34m(self, tup)\u001b[0m\n\u001b[0;32m    804\u001b[0m                 \u001b[1;32mcontinue\u001b[0m\u001b[1;33m\u001b[0m\u001b[1;33m\u001b[0m\u001b[0m\n\u001b[0;32m    805\u001b[0m \u001b[1;33m\u001b[0m\u001b[0m\n\u001b[1;32m--> 806\u001b[1;33m             \u001b[0mretval\u001b[0m \u001b[1;33m=\u001b[0m \u001b[0mgetattr\u001b[0m\u001b[1;33m(\u001b[0m\u001b[0mretval\u001b[0m\u001b[1;33m,\u001b[0m \u001b[0mself\u001b[0m\u001b[1;33m.\u001b[0m\u001b[0mname\u001b[0m\u001b[1;33m)\u001b[0m\u001b[1;33m.\u001b[0m\u001b[0m_getitem_axis\u001b[0m\u001b[1;33m(\u001b[0m\u001b[0mkey\u001b[0m\u001b[1;33m,\u001b[0m \u001b[0maxis\u001b[0m\u001b[1;33m=\u001b[0m\u001b[0mi\u001b[0m\u001b[1;33m)\u001b[0m\u001b[1;33m\u001b[0m\u001b[1;33m\u001b[0m\u001b[0m\n\u001b[0m\u001b[0;32m    807\u001b[0m             \u001b[1;31m# We should never have retval.ndim < self.ndim, as that should\u001b[0m\u001b[1;33m\u001b[0m\u001b[1;33m\u001b[0m\u001b[1;33m\u001b[0m\u001b[0m\n\u001b[0;32m    808\u001b[0m             \u001b[1;31m#  be handled by the _getitem_lowerdim call above.\u001b[0m\u001b[1;33m\u001b[0m\u001b[1;33m\u001b[0m\u001b[1;33m\u001b[0m\u001b[0m\n",
      "\u001b[1;32m~\\.conda\\envs\\python-tutorial\\lib\\site-packages\\pandas\\core\\indexing.py\u001b[0m in \u001b[0;36m_getitem_axis\u001b[1;34m(self, key, axis)\u001b[0m\n\u001b[0;32m   1541\u001b[0m \u001b[1;33m\u001b[0m\u001b[0m\n\u001b[0;32m   1542\u001b[0m         \u001b[1;32mif\u001b[0m \u001b[0misinstance\u001b[0m\u001b[1;33m(\u001b[0m\u001b[0mkey\u001b[0m\u001b[1;33m,\u001b[0m \u001b[0mslice\u001b[0m\u001b[1;33m)\u001b[0m\u001b[1;33m:\u001b[0m\u001b[1;33m\u001b[0m\u001b[1;33m\u001b[0m\u001b[0m\n\u001b[1;32m-> 1543\u001b[1;33m             \u001b[1;32mreturn\u001b[0m \u001b[0mself\u001b[0m\u001b[1;33m.\u001b[0m\u001b[0m_get_slice_axis\u001b[0m\u001b[1;33m(\u001b[0m\u001b[0mkey\u001b[0m\u001b[1;33m,\u001b[0m \u001b[0maxis\u001b[0m\u001b[1;33m=\u001b[0m\u001b[0maxis\u001b[0m\u001b[1;33m)\u001b[0m\u001b[1;33m\u001b[0m\u001b[1;33m\u001b[0m\u001b[0m\n\u001b[0m\u001b[0;32m   1544\u001b[0m \u001b[1;33m\u001b[0m\u001b[0m\n\u001b[0;32m   1545\u001b[0m         \u001b[1;32mif\u001b[0m \u001b[0mis_iterator\u001b[0m\u001b[1;33m(\u001b[0m\u001b[0mkey\u001b[0m\u001b[1;33m)\u001b[0m\u001b[1;33m:\u001b[0m\u001b[1;33m\u001b[0m\u001b[1;33m\u001b[0m\u001b[0m\n",
      "\u001b[1;32m~\\.conda\\envs\\python-tutorial\\lib\\site-packages\\pandas\\core\\indexing.py\u001b[0m in \u001b[0;36m_get_slice_axis\u001b[1;34m(self, slice_obj, axis)\u001b[0m\n\u001b[0;32m   1577\u001b[0m         \u001b[0mlabels\u001b[0m \u001b[1;33m=\u001b[0m \u001b[0mobj\u001b[0m\u001b[1;33m.\u001b[0m\u001b[0m_get_axis\u001b[0m\u001b[1;33m(\u001b[0m\u001b[0maxis\u001b[0m\u001b[1;33m)\u001b[0m\u001b[1;33m\u001b[0m\u001b[1;33m\u001b[0m\u001b[0m\n\u001b[0;32m   1578\u001b[0m         \u001b[0mlabels\u001b[0m\u001b[1;33m.\u001b[0m\u001b[0m_validate_positional_slice\u001b[0m\u001b[1;33m(\u001b[0m\u001b[0mslice_obj\u001b[0m\u001b[1;33m)\u001b[0m\u001b[1;33m\u001b[0m\u001b[1;33m\u001b[0m\u001b[0m\n\u001b[1;32m-> 1579\u001b[1;33m         \u001b[1;32mreturn\u001b[0m \u001b[0mself\u001b[0m\u001b[1;33m.\u001b[0m\u001b[0mobj\u001b[0m\u001b[1;33m.\u001b[0m\u001b[0m_slice\u001b[0m\u001b[1;33m(\u001b[0m\u001b[0mslice_obj\u001b[0m\u001b[1;33m,\u001b[0m \u001b[0maxis\u001b[0m\u001b[1;33m=\u001b[0m\u001b[0maxis\u001b[0m\u001b[1;33m)\u001b[0m\u001b[1;33m\u001b[0m\u001b[1;33m\u001b[0m\u001b[0m\n\u001b[0m\u001b[0;32m   1580\u001b[0m \u001b[1;33m\u001b[0m\u001b[0m\n\u001b[0;32m   1581\u001b[0m     \u001b[1;32mdef\u001b[0m \u001b[0m_convert_to_indexer\u001b[0m\u001b[1;33m(\u001b[0m\u001b[0mself\u001b[0m\u001b[1;33m,\u001b[0m \u001b[0mkey\u001b[0m\u001b[1;33m,\u001b[0m \u001b[0maxis\u001b[0m\u001b[1;33m:\u001b[0m \u001b[0mint\u001b[0m\u001b[1;33m,\u001b[0m \u001b[0mis_setter\u001b[0m\u001b[1;33m:\u001b[0m \u001b[0mbool\u001b[0m \u001b[1;33m=\u001b[0m \u001b[1;32mFalse\u001b[0m\u001b[1;33m)\u001b[0m\u001b[1;33m:\u001b[0m\u001b[1;33m\u001b[0m\u001b[1;33m\u001b[0m\u001b[0m\n",
      "\u001b[1;32m~\\.conda\\envs\\python-tutorial\\lib\\site-packages\\pandas\\core\\generic.py\u001b[0m in \u001b[0;36m_slice\u001b[1;34m(self, slobj, axis)\u001b[0m\n\u001b[0;32m   3826\u001b[0m         \u001b[1;32massert\u001b[0m \u001b[0misinstance\u001b[0m\u001b[1;33m(\u001b[0m\u001b[0mslobj\u001b[0m\u001b[1;33m,\u001b[0m \u001b[0mslice\u001b[0m\u001b[1;33m)\u001b[0m\u001b[1;33m,\u001b[0m \u001b[0mtype\u001b[0m\u001b[1;33m(\u001b[0m\u001b[0mslobj\u001b[0m\u001b[1;33m)\u001b[0m\u001b[1;33m\u001b[0m\u001b[1;33m\u001b[0m\u001b[0m\n\u001b[0;32m   3827\u001b[0m         \u001b[0maxis\u001b[0m \u001b[1;33m=\u001b[0m \u001b[0mself\u001b[0m\u001b[1;33m.\u001b[0m\u001b[0m_get_block_manager_axis\u001b[0m\u001b[1;33m(\u001b[0m\u001b[0maxis\u001b[0m\u001b[1;33m)\u001b[0m\u001b[1;33m\u001b[0m\u001b[1;33m\u001b[0m\u001b[0m\n\u001b[1;32m-> 3828\u001b[1;33m         \u001b[0mresult\u001b[0m \u001b[1;33m=\u001b[0m \u001b[0mself\u001b[0m\u001b[1;33m.\u001b[0m\u001b[0m_constructor\u001b[0m\u001b[1;33m(\u001b[0m\u001b[0mself\u001b[0m\u001b[1;33m.\u001b[0m\u001b[0m_mgr\u001b[0m\u001b[1;33m.\u001b[0m\u001b[0mget_slice\u001b[0m\u001b[1;33m(\u001b[0m\u001b[0mslobj\u001b[0m\u001b[1;33m,\u001b[0m \u001b[0maxis\u001b[0m\u001b[1;33m=\u001b[0m\u001b[0maxis\u001b[0m\u001b[1;33m)\u001b[0m\u001b[1;33m)\u001b[0m\u001b[1;33m\u001b[0m\u001b[1;33m\u001b[0m\u001b[0m\n\u001b[0m\u001b[0;32m   3829\u001b[0m         \u001b[0mresult\u001b[0m \u001b[1;33m=\u001b[0m \u001b[0mresult\u001b[0m\u001b[1;33m.\u001b[0m\u001b[0m__finalize__\u001b[0m\u001b[1;33m(\u001b[0m\u001b[0mself\u001b[0m\u001b[1;33m)\u001b[0m\u001b[1;33m\u001b[0m\u001b[1;33m\u001b[0m\u001b[0m\n\u001b[0;32m   3830\u001b[0m \u001b[1;33m\u001b[0m\u001b[0m\n",
      "\u001b[1;32m~\\.conda\\envs\\python-tutorial\\lib\\site-packages\\pandas\\_libs\\internals.pyx\u001b[0m in \u001b[0;36mpandas._libs.internals.BlockManager.get_slice\u001b[1;34m()\u001b[0m\n",
      "\u001b[1;32m~\\.conda\\envs\\python-tutorial\\lib\\site-packages\\pandas\\core\\internals\\managers.py\u001b[0m in \u001b[0;36m_slice_take_blocks_ax0\u001b[1;34m(self, slice_or_indexer, fill_value, only_slice)\u001b[0m\n\u001b[0;32m    817\u001b[0m                             \u001b[0mblocks\u001b[0m\u001b[1;33m.\u001b[0m\u001b[0mappend\u001b[0m\u001b[1;33m(\u001b[0m\u001b[0mnb\u001b[0m\u001b[1;33m)\u001b[0m\u001b[1;33m\u001b[0m\u001b[1;33m\u001b[0m\u001b[0m\n\u001b[0;32m    818\u001b[0m                     \u001b[1;32melse\u001b[0m\u001b[1;33m:\u001b[0m\u001b[1;33m\u001b[0m\u001b[1;33m\u001b[0m\u001b[0m\n\u001b[1;32m--> 819\u001b[1;33m                         \u001b[0mnb\u001b[0m \u001b[1;33m=\u001b[0m \u001b[0mblk\u001b[0m\u001b[1;33m.\u001b[0m\u001b[0mtake_nd\u001b[0m\u001b[1;33m(\u001b[0m\u001b[0mtaker\u001b[0m\u001b[1;33m,\u001b[0m \u001b[0maxis\u001b[0m\u001b[1;33m=\u001b[0m\u001b[1;36m0\u001b[0m\u001b[1;33m,\u001b[0m \u001b[0mnew_mgr_locs\u001b[0m\u001b[1;33m=\u001b[0m\u001b[0mmgr_locs\u001b[0m\u001b[1;33m)\u001b[0m\u001b[1;33m\u001b[0m\u001b[1;33m\u001b[0m\u001b[0m\n\u001b[0m\u001b[0;32m    820\u001b[0m                         \u001b[0mblocks\u001b[0m\u001b[1;33m.\u001b[0m\u001b[0mappend\u001b[0m\u001b[1;33m(\u001b[0m\u001b[0mnb\u001b[0m\u001b[1;33m)\u001b[0m\u001b[1;33m\u001b[0m\u001b[1;33m\u001b[0m\u001b[0m\n\u001b[0;32m    821\u001b[0m \u001b[1;33m\u001b[0m\u001b[0m\n",
      "\u001b[1;32m~\\.conda\\envs\\python-tutorial\\lib\\site-packages\\pandas\\core\\internals\\blocks.py\u001b[0m in \u001b[0;36mtake_nd\u001b[1;34m(self, indexer, axis, new_mgr_locs, fill_value)\u001b[0m\n\u001b[0;32m   1143\u001b[0m \u001b[1;33m\u001b[0m\u001b[0m\n\u001b[0;32m   1144\u001b[0m         new_values = algos.take_nd(\n\u001b[1;32m-> 1145\u001b[1;33m             \u001b[0mvalues\u001b[0m\u001b[1;33m,\u001b[0m \u001b[0mindexer\u001b[0m\u001b[1;33m,\u001b[0m \u001b[0maxis\u001b[0m\u001b[1;33m=\u001b[0m\u001b[0maxis\u001b[0m\u001b[1;33m,\u001b[0m \u001b[0mallow_fill\u001b[0m\u001b[1;33m=\u001b[0m\u001b[0mallow_fill\u001b[0m\u001b[1;33m,\u001b[0m \u001b[0mfill_value\u001b[0m\u001b[1;33m=\u001b[0m\u001b[0mfill_value\u001b[0m\u001b[1;33m\u001b[0m\u001b[1;33m\u001b[0m\u001b[0m\n\u001b[0m\u001b[0;32m   1146\u001b[0m         )\n\u001b[0;32m   1147\u001b[0m \u001b[1;33m\u001b[0m\u001b[0m\n",
      "\u001b[1;32m~\\.conda\\envs\\python-tutorial\\lib\\site-packages\\pandas\\core\\array_algos\\take.py\u001b[0m in \u001b[0;36mtake_nd\u001b[1;34m(arr, indexer, axis, fill_value, allow_fill)\u001b[0m\n\u001b[0;32m    106\u001b[0m \u001b[1;33m\u001b[0m\u001b[0m\n\u001b[0;32m    107\u001b[0m     \u001b[0marr\u001b[0m \u001b[1;33m=\u001b[0m \u001b[0mnp\u001b[0m\u001b[1;33m.\u001b[0m\u001b[0masarray\u001b[0m\u001b[1;33m(\u001b[0m\u001b[0marr\u001b[0m\u001b[1;33m)\u001b[0m\u001b[1;33m\u001b[0m\u001b[1;33m\u001b[0m\u001b[0m\n\u001b[1;32m--> 108\u001b[1;33m     \u001b[1;32mreturn\u001b[0m \u001b[0m_take_nd_ndarray\u001b[0m\u001b[1;33m(\u001b[0m\u001b[0marr\u001b[0m\u001b[1;33m,\u001b[0m \u001b[0mindexer\u001b[0m\u001b[1;33m,\u001b[0m \u001b[0maxis\u001b[0m\u001b[1;33m,\u001b[0m \u001b[0mfill_value\u001b[0m\u001b[1;33m,\u001b[0m \u001b[0mallow_fill\u001b[0m\u001b[1;33m)\u001b[0m\u001b[1;33m\u001b[0m\u001b[1;33m\u001b[0m\u001b[0m\n\u001b[0m\u001b[0;32m    109\u001b[0m \u001b[1;33m\u001b[0m\u001b[0m\n\u001b[0;32m    110\u001b[0m \u001b[1;33m\u001b[0m\u001b[0m\n",
      "\u001b[1;31mKeyboardInterrupt\u001b[0m: "
     ]
    }
   ],
   "source": [
    "recommender_systems = {  'mfcc_bow': {'kind':'audio_based', 'feature': 'mfcc_bow', 'similarity': 'cosine_similarity'}\n",
    "                        , 'blf_spectralcontrast': {'kind':'audio_based','feature': 'blf_spectralcontrast', 'similarity': 'cosine_similarity'}\n",
    "                        , 'ivec256': {'kind':'audio_based','feature': 'ivec256', 'similarity': 'cosine_similarity'}\n",
    "                        , 'musicnn': {'kind':'audio_based','feature': 'musicnn', 'similarity': 'cosine_similarity'}\n",
    "                       , 'random': {'kind':'-','feature': '-', 'similarity': '-'}\n",
    "                       , 'cos(tf-idf)': {'kind':'text_based','feature': 'lyrics_tf-idf', 'similarity': 'cosine_similarity'}\n",
    "                       , 'cos(bert)': {'kind':'text_based','feature': 'lyrics_bert', 'similarity': 'cosine_similarity'}\n",
    "                       , 'euclidean(word2vec)': {'kind':'text_based','feature': 'lyrics_word2vec', 'similarity': 'euclidean_distances'}\n",
    "                      } \n",
    "\n",
    "recall_precision_curve_result = dict({ })\n",
    "song_id = song1['id'].values[0]\n",
    "\n",
    "# iterates all recommender systems and calcualtes the recall precision for k recommended songs for target song (k is within the intervall of k_interval)\n",
    "def recall_precision_curve_foreach_rs(song:str = None, k_interval:[int, int]=[1, 10]):\n",
    "    \n",
    "    precision_list = []\n",
    "    recall_list = []\n",
    "    for rs in recommender_systems.keys():\n",
    "        feature = recommender_systems[rs]['feature'];\n",
    "        similarity = recommender_systems[rs]['similarity'];\n",
    "        for k in np.arange(*k_interval,1): # make for each k one file\n",
    "        \n",
    "            print(f\"recommender system: {rs}, feature: {feature}, similarity: {similarity}, k: {k}\")\n",
    "            recall_list, precision_list = recall_precision_curve(feature = feature, similarity = similarity, k= k, song_id = None )\n",
    "            # TODO: save to file, instead of save to dictionary.\n",
    "            recall_precision_curve_result[rs] = {'precision_list': precision_list,'recall_list': recall_list }\n",
    "\n",
    "# calculate the precision recall over all recommender systems, with k recommended songs\n",
    "recall_precision_curve_foreach_rs(song = None, k_interval =[1, 2] )\n"
   ]
  },
  {
   "cell_type": "code",
   "execution_count": 24,
   "id": "b119c940-9ecb-4812-abca-d702150bf5a5",
   "metadata": {},
   "outputs": [
    {
     "name": "stdout",
     "output_type": "stream",
     "text": [
      "{'precision_list': [0.0, 0.0, 0.0, 0.25, 0.2, 0.167, 0.143, 0.125, 0.222, 0.2, 0.182, 0.167, 0.154, 0.143, 0.133, 0.125, 0.118, 0.111, 0.105, 0.1, 0.095, 0.091, 0.13, 0.167, 0.16, 0.154, 0.185, 0.179, 0.172], 'recall_list': [0.0, 0.0, 0.0, 0.001, 0.001, 0.001, 0.001, 0.001, 0.001, 0.001, 0.001, 0.001, 0.001, 0.001, 0.001, 0.001, 0.001, 0.001, 0.001, 0.001, 0.001, 0.001, 0.002, 0.003, 0.003, 0.003, 0.003, 0.003, 0.003]}\n"
     ]
    }
   ],
   "source": [
    "print(recall_precision_curve_result['blf_spectralcontrast'])"
   ]
  },
  {
   "cell_type": "code",
   "execution_count": null,
   "id": "736185ae-e7f6-49ba-84fb-dc16033c4074",
   "metadata": {},
   "outputs": [],
   "source": [
    "#To append to a pickle file\n",
    "p={1:2}\n",
    "q={3:4}\n",
    "filename=f\"rs_{k}_{}\"\n",
    "with open(filename, 'a+') as fp:\n",
    "    pickle.dump(p,fp)\n",
    "    pickle.dump(q,fp)"
   ]
  },
  {
   "cell_type": "code",
   "execution_count": 28,
   "id": "4d1df75f-470a-4d3f-b80f-9143a1842197",
   "metadata": {},
   "outputs": [
    {
     "data": {
      "text/plain": [
       "<matplotlib.legend.Legend at 0x2194306f610>"
      ]
     },
     "execution_count": 28,
     "metadata": {},
     "output_type": "execute_result"
    },
    {
     "data": {
      "image/png": "[encoded data removed]",
      "text/plain": [
       "<Figure size 432x288 with 1 Axes>"
      ]
     },
     "metadata": {
      "needs_background": "light"
     },
     "output_type": "display_data"
    }
   ],
   "source": [
    "color_encoding = ['purple', 'green','blue','lightblue', 'red', 'orange', 'brown', 'pink']\n",
    "fig, ax = plt.subplots()\n",
    "\n",
    "for i, k in  enumerate(recommender_systems.keys()):\n",
    "    precision_list = recall_precision_curve_result[k]['precision_list']\n",
    "    recall_list = recall_precision_curve_result[k]['recall_list']\n",
    "    ax.plot(recall_list, precision_list, color = color_encoding[i] )\n",
    "\n",
    "ax.set_title('Precision-Recall Curve')\n",
    "ax.set_ylabel('Precision')\n",
    "ax.set_xlabel('Recall')\n",
    "# display plot\n",
    "plt.legend(recommender_systems , loc =\"lower right\") # 'upper left'\n"
   ]
  },
  {
   "cell_type": "code",
   "execution_count": null,
   "id": "348a2d7b-efc3-4de9-a4a8-5a2714f53599",
   "metadata": {},
   "outputs": [],
   "source": []
  }
 ],
 "metadata": {
  "kernelspec": {
   "display_name": "Python 3 (ipykernel)",
   "language": "python",
   "name": "python3"
  },
  "language_info": {
   "codemirror_mode": {
    "name": "ipython",
    "version": 3
   },
   "file_extension": ".py",
   "mimetype": "text/x-python",
   "name": "python",
   "nbconvert_exporter": "python",
   "pygments_lexer": "ipython3",
   "version": "3.7.12"
  }
 },
 "nbformat": 4,
 "nbformat_minor": 5
}
